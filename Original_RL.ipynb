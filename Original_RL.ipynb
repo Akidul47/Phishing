{
  "nbformat": 4,
  "nbformat_minor": 0,
  "metadata": {
    "colab": {
      "provenance": []
    },
    "kernelspec": {
      "name": "python3",
      "display_name": "Python 3"
    },
    "language_info": {
      "name": "python"
    }
  },
  "cells": [
    {
      "cell_type": "code",
      "execution_count": null,
      "metadata": {
        "id": "ou5W_nv3tSWX"
      },
      "outputs": [],
      "source": [
        "import numpy as np\n",
        "import random\n",
        "import pandas as pd\n",
        "from sklearn.model_selection import train_test_split\n",
        "from sklearn.feature_extraction.text import TfidfVectorizer\n",
        "from sklearn.ensemble import RandomForestClassifier\n",
        "from sklearn.metrics import classification_report, accuracy_score\n",
        "from sklearn.pipeline import Pipeline"
      ]
    },
    {
      "cell_type": "code",
      "source": [
        "data = pd.read_excel('/content/drive/MyDrive/Colab Notebooks/Security/Original_data.xlsx')\n",
        "\n",
        "data['Full_Text'] = data['Subject'] + \" \" + data['Email']\n"
      ],
      "metadata": {
        "id": "gAmj8pY6uCAy"
      },
      "execution_count": null,
      "outputs": []
    },
    {
      "cell_type": "code",
      "source": [
        "from sklearn.metrics.pairwise import cosine_similarity"
      ],
      "metadata": {
        "id": "aR5v6-spy_tT"
      },
      "execution_count": null,
      "outputs": []
    },
    {
      "cell_type": "code",
      "source": [
        "\n",
        "vectorizer = TfidfVectorizer(stop_words='english', max_features=500)\n",
        "X = vectorizer.fit_transform(data['Full_Text'])\n",
        "y = data['Email_type'].apply(lambda x: 1 if x == 'Phishing' else 0)\n",
        "\n",
        "\n",
        "X_train, X_test, y_train, y_test = train_test_split(X, y, test_size=0.2, random_state=42)\n",
        "\n",
        "\n",
        "n_states = X_train.shape[0]\n",
        "n_actions = 2\n",
        "q_table = np.zeros((n_states, n_actions))\n",
        "\n",
        "\n",
        "alpha = 0.1\n",
        "gamma = 0.6\n",
        "epsilon = 0.1\n",
        "\n",
        "\n",
        "for episode in range(1000):\n",
        "    state_index = np.random.randint(0, n_states)\n",
        "    if np.random.rand() < epsilon:\n",
        "        action = np.random.choice([0, 1])\n",
        "    else:\n",
        "        action = np.argmax(q_table[state_index])\n",
        "\n",
        "    reward = 1 if action == y_train.iloc[state_index] else -1\n",
        "    old_value = q_table[state_index, action]\n",
        "    next_max = np.max(q_table[state_index])\n",
        "\n",
        "    q_table[state_index, action] = (1 - alpha) * old_value + alpha * (reward + gamma * next_max)\n",
        "\n",
        "y_pred = []\n",
        "for test_vector in X_test:\n",
        "\n",
        "    similarities = cosine_similarity(test_vector, X_train)\n",
        "\n",
        "    state_index = np.argmax(similarities)\n",
        "\n",
        "    predicted_action = np.argmax(q_table[state_index])\n",
        "    y_pred.append(predicted_action)\n",
        "\n",
        "accuracy = accuracy_score(y_test, y_pred)\n",
        "report = classification_report(y_test, y_pred)\n",
        "\n",
        "print(\"Accuracy:\", accuracy)\n",
        "print(\"Classification Report:\\n\", report)"
      ],
      "metadata": {
        "colab": {
          "base_uri": "https://localhost:8080/"
        },
        "id": "c-P1dcdKymxq",
        "outputId": "48e63d70-9efd-4dd5-e7a6-167b26e107c4"
      },
      "execution_count": null,
      "outputs": [
        {
          "output_type": "stream",
          "name": "stdout",
          "text": [
            "Accuracy: 0.8775510204081632\n",
            "Classification Report:\n",
            "               precision    recall  f1-score   support\n",
            "\n",
            "           0       0.90      0.64      0.75        14\n",
            "           1       0.87      0.97      0.92        35\n",
            "\n",
            "    accuracy                           0.88        49\n",
            "   macro avg       0.89      0.81      0.83        49\n",
            "weighted avg       0.88      0.88      0.87        49\n",
            "\n"
          ]
        }
      ]
    }
  ]
}