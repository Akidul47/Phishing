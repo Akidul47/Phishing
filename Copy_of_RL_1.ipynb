{
  "nbformat": 4,
  "nbformat_minor": 0,
  "metadata": {
    "colab": {
      "provenance": []
    },
    "kernelspec": {
      "name": "python3",
      "display_name": "Python 3"
    },
    "language_info": {
      "name": "python"
    }
  },
  "cells": [
    {
      "cell_type": "code",
      "source": [
        "from google.colab import drive\n",
        "drive.mount('/content/drive')"
      ],
      "metadata": {
        "colab": {
          "base_uri": "https://localhost:8080/"
        },
        "id": "eMEgsWTpMCVG",
        "outputId": "b137f55c-acf0-4a8f-dc10-e1080c349393"
      },
      "execution_count": null,
      "outputs": [
        {
          "output_type": "stream",
          "name": "stdout",
          "text": [
            "Mounted at /content/drive\n"
          ]
        }
      ]
    },
    {
      "cell_type": "code",
      "source": [
        "import numpy as np\n",
        "import pandas as pd"
      ],
      "metadata": {
        "id": "Qk8l20KZZJh0"
      },
      "execution_count": null,
      "outputs": []
    },
    {
      "cell_type": "code",
      "source": [
        "file_paths = [\n",
        "    '/content/drive/MyDrive/Colab Notebooks/cognative/scamdata_10_16Oct2018090735_20_F.dat',\n",
        "    '/content/drive/MyDrive/Colab Notebooks/cognative/scamdata_23_29Oct2018120805_18_F.dat',\n",
        "    '/content/drive/MyDrive/Colab Notebooks/cognative/scamdata_36_19Nov2018090252_18_M.dat',\n",
        "    '/content/drive/MyDrive/Colab Notebooks/cognative/scamdata_48_29Nov2018145344_19_M.dat',\n",
        "    '/content/drive/MyDrive/Colab Notebooks/cognative/scamdata_8_15Oct2018090007_18_F.dat'\n",
        "]"
      ],
      "metadata": {
        "id": "XjTSaZJsMPX9"
      },
      "execution_count": null,
      "outputs": []
    },
    {
      "cell_type": "code",
      "source": [
        "import pandas as pd\n",
        "\n",
        "def load_and_preprocess_data(file_paths):\n",
        "    \"\"\"Loads and concatenates datasets from the given file paths.\"\"\"\n",
        "    return pd.concat([pd.read_csv(path, sep=',') for path in file_paths])\n",
        "\n",
        "def analyze_user_responses(data):\n",
        "    \"\"\"Analyzes user responses to identify potential biases.\"\"\"\n",
        "    # Aggregate user responses\n",
        "    response_counts = data['userId'].value_counts()\n",
        "\n",
        "    # Analyze biases towards email categories, types, and attachments\n",
        "    category_bias = data.groupby('category')['userId'].value_counts().unstack().fillna(0)\n",
        "    type_bias = data.groupby('type')['userId'].value_counts().unstack().fillna(0)\n",
        "    attachment_bias = data.groupby('hasAtt')['userId'].value_counts().unstack().fillna(0)\n",
        "\n",
        "    return response_counts, category_bias, type_bias, attachment_bias"
      ],
      "metadata": {
        "id": "MYbV6xIUokmL"
      },
      "execution_count": null,
      "outputs": []
    },
    {
      "cell_type": "code",
      "source": [
        "# Load and preprocess the data\n",
        "all_data = load_and_preprocess_data(file_paths)"
      ],
      "metadata": {
        "id": "AQd5Uv8vYw4v"
      },
      "execution_count": null,
      "outputs": []
    },
    {
      "cell_type": "code",
      "source": [
        "all_data['category'], _ = pd.factorize(all_data['category'])\n",
        "all_data['type'], _ = pd.factorize(all_data['type'])\n",
        "all_data['hasAtt'] = all_data['hasAtt'].astype(int)\n",
        "all_data['reactTime'] = pd.qcut(all_data['reactTime'], 3, labels=False)\n",
        "all_data['state'] = all_data.apply(lambda x: x['category'] * 1000 + x['type'] * 100 + x['hasAtt'] * 10 + x['reactTime'], axis=1)"
      ],
      "metadata": {
        "id": "R9PEpCgNYy_d"
      },
      "execution_count": null,
      "outputs": []
    },
    {
      "cell_type": "code",
      "source": [
        "num_states = all_data['state'].nunique()\n",
        "num_actions = 4\n",
        "\n",
        "# Initialize Q-table\n",
        "Q = np.zeros((num_states, num_actions))\n",
        "\n",
        "# Learning parameters\n",
        "alpha = 0.1  # Learning rate\n",
        "gamma = 0.6  # Discount factor\n",
        "epsilon = 0.1  # Exploration rate\n"
      ],
      "metadata": {
        "id": "hmnc8TYYZFiE"
      },
      "execution_count": null,
      "outputs": []
    },
    {
      "cell_type": "code",
      "source": [
        "def choose_action(state_index):\n",
        "    if np.random.rand() < epsilon:\n",
        "        return np.random.choice(num_actions)  # Explore\n",
        "    else:\n",
        "        return np.argmax(Q[state_index])  # Exploit learned values\n",
        "\n",
        "# Function to update the Q-table\n",
        "def update_q_table(state_index, action, reward, next_state_index):\n",
        "    next_max = np.max(Q[next_state_index])\n",
        "    Q[state_index, action] = Q[state_index, action] + alpha * (reward + gamma * next_max - Q[state_index, action])\n"
      ],
      "metadata": {
        "id": "8jAtrOUiZNus"
      },
      "execution_count": null,
      "outputs": []
    },
    {
      "cell_type": "code",
      "source": [
        "# Simulate state transitions and rewards\n",
        "state_to_index = {state: idx for idx, state in enumerate(all_data['state'].unique())}\n",
        "num_episodes = 1000  # For the example, adjust based on your needs"
      ],
      "metadata": {
        "id": "aCDwrw51ZRs2"
      },
      "execution_count": null,
      "outputs": []
    },
    {
      "cell_type": "code",
      "source": [
        "for _ in range(num_episodes):\n",
        "    state = np.random.choice(all_data['state'])\n",
        "    state_index = state_to_index[state]\n",
        "    action = choose_action(state_index)\n",
        "    reward = np.random.choice([1, -1])\n",
        "    next_state = np.random.choice(all_data['state'])\n",
        "    next_state_index = state_to_index[next_state]\n",
        "    update_q_table(state_index, action, reward, next_state_index)\n"
      ],
      "metadata": {
        "id": "yb49EFWoZUEc"
      },
      "execution_count": null,
      "outputs": []
    },
    {
      "cell_type": "code",
      "source": [
        "# Example output\n",
        "print(\"Q-table after training:\")\n",
        "print(Q)"
      ],
      "metadata": {
        "colab": {
          "base_uri": "https://localhost:8080/"
        },
        "id": "yRnd6Mo0ZVsd",
        "outputId": "5560c751-2bdf-4f52-b519-858e70407fc7"
      },
      "execution_count": null,
      "outputs": [
        {
          "output_type": "stream",
          "name": "stdout",
          "text": [
            "Q-table after training:\n",
            "[[-0.08191521 -0.09561849 -0.094      -0.08264965]\n",
            " [-0.094       0.29941612  0.          0.        ]\n",
            " [-0.14053295 -0.08784773 -0.09422025 -0.1       ]\n",
            " [-0.19        0.05189442 -0.10255192 -0.1       ]\n",
            " [ 0.28632796  0.          0.          0.        ]\n",
            " [-0.1        -0.07792525  0.          0.        ]\n",
            " [-0.01813658  0.          0.          0.        ]\n",
            " [-0.026866   -0.1         0.0202889  -0.08374086]\n",
            " [-0.1761484  -0.16473191 -0.05886366  0.48356465]\n",
            " [-0.09924541  0.14491821  0.          0.        ]\n",
            " [-0.08870793  0.194041    0.          0.        ]\n",
            " [-0.01346156 -0.10355433 -0.0455277  -0.18590356]\n",
            " [-0.09936069 -0.094       0.          0.        ]\n",
            " [-0.15751764 -0.08443114 -0.04553951  0.41984725]\n",
            " [-0.1        -0.08604004  0.         -0.1       ]\n",
            " [-0.005086   -0.1        -0.07442103  0.        ]\n",
            " [ 0.265924    0.          0.06073332  0.        ]\n",
            " [-0.0993004  -0.1         0.          0.        ]\n",
            " [ 0.21120474 -0.09955576 -0.094      -0.09545554]\n",
            " [ 0.1         0.          0.          0.        ]\n",
            " [ 0.12474125  0.          0.         -0.1       ]\n",
            " [-0.01255192 -0.1         0.          0.        ]\n",
            " [ 0.1051672   0.          0.          0.        ]\n",
            " [-0.11134456  0.1         0.          0.        ]\n",
            " [-0.00364    -0.1         0.          0.        ]\n",
            " [ 0.1170616  -0.1         0.          0.        ]\n",
            " [ 0.30072267  0.          0.          0.        ]\n",
            " [-0.00444536 -0.02459368 -0.0853628   0.        ]\n",
            " [-0.08278255  0.11949089  0.          0.        ]\n",
            " [ 0.09989395  0.          0.          0.        ]\n",
            " [-0.19        0.10565224 -0.19       -0.1263024 ]\n",
            " [ 0.          0.          0.          0.        ]\n",
            " [-0.1        -0.1         0.          0.        ]\n",
            " [-0.01        0.016       0.01974607  0.59936358]\n",
            " [ 0.11763763  0.          0.          0.        ]\n",
            " [-0.1         0.106       0.37413021  0.        ]\n",
            " [-0.1         0.12557897  0.          0.        ]\n",
            " [-0.004       0.08024587  0.          0.        ]\n",
            " [-0.0036549  -0.09919345  0.1         0.        ]\n",
            " [-0.09249222 -0.09360714 -0.1        -0.09683627]\n",
            " [-0.00935155  0.0046486  -0.0163572  -0.19334605]\n",
            " [-0.18878267 -0.08824    -0.1463698   0.11195321]\n",
            " [-0.1        -0.1         0.01196319  0.        ]\n",
            " [ 0.          0.         -0.08146547  0.        ]\n",
            " [-0.03154441  0.          0.          0.        ]\n",
            " [-0.0046      0.          0.          0.        ]\n",
            " [ 0.29657897  0.          0.          0.        ]\n",
            " [ 0.11602625  0.          0.          0.        ]\n",
            " [-0.0886     -0.10011984 -0.1         0.        ]\n",
            " [ 0.16597264  0.          0.          0.        ]\n",
            " [-0.0999844  -0.1         0.03068096  0.09610409]\n",
            " [-0.0046     -0.1         0.27983092  0.        ]\n",
            " [-0.08374     0.09009831  0.          0.        ]\n",
            " [ 0.12167415  0.          0.          0.        ]\n",
            " [-0.1         0.          0.          0.        ]\n",
            " [-0.01        0.01016102 -0.09302149  0.        ]\n",
            " [-0.1         0.30141311  0.          0.        ]\n",
            " [-0.1        -0.09928221 -0.1         0.        ]\n",
            " [-0.1         0.1         0.          0.        ]\n",
            " [ 0.          0.          0.          0.        ]\n",
            " [-0.07832585  0.19341148  0.          0.        ]\n",
            " [ 0.          0.          0.          0.        ]\n",
            " [-0.01        0.22314273  0.          0.        ]\n",
            " [-0.00956956  0.13369     0.          0.        ]\n",
            " [ 0.1         0.          0.          0.        ]\n",
            " [ 0.0154      0.          0.          0.        ]\n",
            " [-0.1         0.26935285 -0.09360714  0.        ]\n",
            " [-0.1         0.09031097  0.          0.        ]\n",
            " [-0.1         0.1         0.          0.        ]\n",
            " [ 0.          0.          0.          0.        ]\n",
            " [-0.094       0.          0.          0.        ]\n",
            " [ 0.          0.          0.          0.        ]\n",
            " [-0.07186423 -0.09220865  0.          0.        ]\n",
            " [-0.1         0.          0.          0.        ]\n",
            " [ 0.10829617  0.          0.          0.        ]\n",
            " [ 0.19011926  0.          0.          0.        ]\n",
            " [-0.1        -0.1        -0.08870793  0.        ]\n",
            " [ 0.0068176   0.          0.          0.        ]\n",
            " [ 0.1114      0.          0.          0.        ]\n",
            " [ 0.          0.          0.          0.        ]\n",
            " [-0.0886     -0.01118651 -0.1         0.        ]\n",
            " [ 0.11315047  0.          0.          0.        ]\n",
            " [ 0.0984813  -0.16233464 -0.17614923 -0.1       ]\n",
            " [-0.01       -0.1         0.          0.        ]\n",
            " [-0.094       0.          0.          0.        ]\n",
            " [-0.1         0.00187338  0.          0.        ]\n",
            " [-0.01        0.25274506  0.          0.        ]\n",
            " [-0.01        0.          0.          0.        ]\n",
            " [-0.08993648 -0.09080358  0.          0.        ]\n",
            " [-0.01        0.29084277  0.          0.        ]\n",
            " [ 0.          0.          0.          0.        ]\n",
            " [-0.1        -0.0875513   0.          0.        ]\n",
            " [-0.08768527  0.          0.          0.        ]\n",
            " [-0.01        0.0886      0.          0.        ]\n",
            " [ 0.10982778 -0.1        -0.10008251 -0.17042463]\n",
            " [ 0.1         0.          0.          0.        ]\n",
            " [-0.1         0.          0.          0.        ]\n",
            " [-0.01       -0.08050911 -0.08236237  0.        ]\n",
            " [-0.09586817  0.          0.          0.        ]\n",
            " [-0.1        -0.094      -0.09373036  0.        ]\n",
            " [ 0.          0.          0.          0.        ]\n",
            " [ 0.          0.          0.          0.        ]\n",
            " [-0.1        -0.01        0.          0.        ]\n",
            " [-0.2641684  -0.21888499 -0.21806979  0.1532737 ]\n",
            " [-0.097655   -0.08723346  0.          0.        ]\n",
            " [ 0.20240281  0.          0.          0.        ]\n",
            " [-0.09283055  0.          0.          0.        ]\n",
            " [ 0.          0.          0.          0.        ]\n",
            " [ 0.          0.          0.          0.        ]\n",
            " [ 0.19        0.          0.          0.        ]\n",
            " [ 0.10961531  0.          0.          0.        ]\n",
            " [ 0.00717404  0.          0.          0.        ]\n",
            " [-0.19       -0.19345286  0.1         0.        ]\n",
            " [ 0.1         0.          0.          0.        ]\n",
            " [-0.10147238 -0.0361     -0.0932944   0.20524543]\n",
            " [ 0.1636106   0.          0.          0.        ]\n",
            " [ 0.          0.          0.          0.        ]\n",
            " [-0.1         0.          0.          0.        ]\n",
            " [-0.1         0.1         0.          0.        ]\n",
            " [-0.0853628   0.          0.          0.        ]\n",
            " [-0.00362382  0.          0.          0.        ]\n",
            " [-0.0930244   0.06075994  0.          0.        ]\n",
            " [-0.01       -0.06453844 -0.09468067  0.1       ]\n",
            " [-0.01       -0.1        -0.1006      0.        ]\n",
            " [-0.00435732  0.06735007  0.          0.        ]\n",
            " [ 0.1         0.          0.          0.        ]\n",
            " [ 0.          0.          0.          0.        ]\n",
            " [-0.094       0.          0.          0.        ]\n",
            " [-0.0046     -0.08699544  0.          0.        ]\n",
            " [-0.09394456  0.1         0.          0.        ]\n",
            " [-0.09994969  0.28287025  0.          0.        ]\n",
            " [-0.094      -0.01        0.          0.        ]\n",
            " [ 0.          0.          0.          0.        ]\n",
            " [ 0.10422343  0.          0.          0.        ]\n",
            " [-0.1         0.          0.          0.        ]\n",
            " [ 0.          0.          0.          0.        ]\n",
            " [ 0.          0.          0.          0.        ]\n",
            " [-0.1        -0.08091045  0.          0.        ]\n",
            " [-0.0886      0.1         0.          0.        ]\n",
            " [ 0.19951036  0.          0.          0.        ]\n",
            " [ 0.1         0.          0.          0.        ]\n",
            " [ 0.          0.          0.          0.        ]\n",
            " [-0.01241618  0.         -0.1         0.        ]\n",
            " [ 0.12576496  0.10730045  0.          0.        ]\n",
            " [ 0.10963101  0.          0.          0.        ]\n",
            " [-0.09336866 -0.0031684  -0.0760805   0.09906237]\n",
            " [ 0.          0.          0.          0.        ]\n",
            " [ 0.          0.          0.          0.        ]\n",
            " [ 0.          0.          0.          0.        ]\n",
            " [-0.004      -0.16285812 -0.09364     0.11949089]\n",
            " [-0.0886     -0.10131834 -0.01594456  0.        ]\n",
            " [ 0.          0.          0.          0.        ]\n",
            " [-0.094      -0.087592    0.1         0.        ]\n",
            " [ 0.          0.          0.          0.        ]\n",
            " [-0.10070243 -0.10011984  0.          0.        ]\n",
            " [-0.1        -0.08374     0.08363363  0.        ]\n",
            " [-0.09063798 -0.08801239 -0.091366   -0.1       ]\n",
            " [-0.1         0.          0.          0.        ]\n",
            " [ 0.1         0.          0.          0.        ]\n",
            " [-0.09283055  0.          0.          0.        ]\n",
            " [ 0.11202117 -0.06432409 -0.1         0.14787613]\n",
            " [-0.1         0.27630901 -0.17779357 -0.1       ]\n",
            " [-0.087916   -0.00695413 -0.0873126   0.        ]\n",
            " [-0.084949   -0.00345779  0.          0.        ]\n",
            " [-0.007655    0.1         0.          0.        ]\n",
            " [-0.08847008  0.01344254  0.          0.        ]\n",
            " [-0.094      -0.094       0.          0.        ]\n",
            " [ 0.          0.          0.          0.        ]\n",
            " [-0.094       0.          0.          0.        ]\n",
            " [-0.01       -0.094       0.          0.        ]\n",
            " [-0.01330371  0.00295352 -0.094      -0.08833351]\n",
            " [-0.1         0.22441388  0.          0.        ]\n",
            " [ 0.          0.          0.          0.20808479]\n",
            " [-0.1         0.1         0.          0.        ]\n",
            " [ 0.          0.          0.          0.        ]\n",
            " [-0.09458134 -0.10011984  0.          0.        ]\n",
            " [ 0.          0.          0.          0.        ]\n",
            " [-0.0886     -0.1        -0.10009816  0.        ]\n",
            " [-0.1         0.          0.          0.        ]\n",
            " [-0.1         0.          0.          0.10896211]\n",
            " [-0.01       -0.094       0.          0.        ]\n",
            " [ 0.1         0.          0.          0.        ]\n",
            " [ 0.10903683  0.          0.          0.        ]\n",
            " [-0.01010605  0.00841135  0.          0.        ]\n",
            " [-0.1        -0.08817892  0.3439     -0.1       ]\n",
            " [ 0.071       0.          0.          0.        ]\n",
            " [ 0.1070237   0.          0.          0.        ]\n",
            " [-0.08050911 -0.08661849  0.          0.        ]\n",
            " [ 0.21277564  0.          0.          0.        ]\n",
            " [-0.08006395  0.          0.          0.        ]\n",
            " [ 0.          0.          0.          0.        ]\n",
            " [ 0.25150707  0.          0.          0.        ]\n",
            " [ 0.          0.          0.          0.        ]\n",
            " [ 0.1         0.          0.          0.        ]\n",
            " [ 0.0151672   0.          0.          0.        ]\n",
            " [ 0.025051    0.11176     0.          0.        ]\n",
            " [ 0.18129297  0.          0.          0.        ]\n",
            " [-0.094      -0.1        -0.1        -0.00410708]\n",
            " [-0.1         0.12268107  0.          0.        ]\n",
            " [ 0.          0.          0.          0.        ]\n",
            " [-0.1         0.          0.          0.        ]\n",
            " [-0.0875058   0.          0.          0.        ]\n",
            " [ 0.          0.          0.          0.        ]\n",
            " [-0.09417784  0.00117498  0.          0.        ]\n",
            " [-0.08801127  0.          0.          0.        ]\n",
            " [-0.094       0.          0.          0.19485888]\n",
            " [ 0.1         0.          0.          0.        ]\n",
            " [-0.09337261  0.11678986  0.          0.        ]\n",
            " [-0.001366    0.          0.          0.        ]\n",
            " [ 0.          0.          0.          0.        ]\n",
            " [-0.0361      0.106       0.          0.        ]\n",
            " [-0.094      -0.09545554 -0.09577657 -0.01      ]\n",
            " [ 0.10229206  0.          0.          0.        ]\n",
            " [-0.09404475  0.          0.          0.        ]\n",
            " [ 0.          0.          0.          0.        ]\n",
            " [-0.08797562  0.          0.          0.        ]\n",
            " [-0.09642955  0.1         0.          0.        ]\n",
            " [-0.08282032  0.          0.          0.        ]\n",
            " [ 0.          0.          0.          0.        ]\n",
            " [-0.08977481  0.09910284  0.          0.        ]\n",
            " [ 0.1         0.          0.          0.1       ]\n",
            " [-0.0954484  -0.09883714  0.10981664  0.        ]\n",
            " [-0.08768207  0.1         0.          0.        ]\n",
            " [-0.1         0.          0.          0.        ]\n",
            " [-0.00770794 -0.01        0.          0.        ]\n",
            " [-0.004      -0.07442103  0.          0.        ]\n",
            " [ 0.11338151  0.          0.          0.        ]\n",
            " [ 0.          0.          0.          0.        ]]\n"
          ]
        }
      ]
    }
  ]
}